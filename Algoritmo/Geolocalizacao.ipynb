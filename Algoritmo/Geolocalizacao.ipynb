{
 "cells": [
  {
   "cell_type": "markdown",
   "metadata": {},
   "source": [
    "# **ANÁLISE, TRATAMENTO, AUTOMATIZAÇÃO E MACHINE LEARNING: GEOLOCALIZAÇÃO REGIÃO**\n"
   ]
  },
  {
   "cell_type": "markdown",
   "metadata": {},
   "source": [
    "## **Objetivo**"
   ]
  },
  {
   "cell_type": "markdown",
   "metadata": {},
   "source": [
    "- Localizar a região de cada pessoa com suas coordenadas dentro de um munícipio na utilização de funções relacionadas a dados geoespacias;\n",
    "- A partir de localizada, construir um modelo de aprendizagem de máquina que realizará o mesmo próposito de prever a região;\n",
    "- Separar os dados em uma amostra, usada na criação do modelo, e o restante para previsão da região pelo modelo;\n",
    "- Empregar quatro variáveis preditivas criadas na conversão de latitude e longitude, destaque na utilização de algoritmo de clusterização agrupamento hierárquico;\n",
    "- Testar em diferentes algoritmos de aprendizagem supervisionada de classificação e comparar o melhor para fazer a previsão da região nos dados que restaram.  \n"
   ]
  },
  {
   "cell_type": "markdown",
   "metadata": {},
   "source": [
    "## **Informação**  \n"
   ]
  },
  {
   "cell_type": "markdown",
   "metadata": {},
   "source": [
    "Base de dados: 185.005 linhas com 20% para elaborar o modelo de machine learning e os outros 80% para visualizar o desempenho do próprio modelo na rotulação do atributo-alvo região."
   ]
  },
  {
   "cell_type": "markdown",
   "metadata": {},
   "source": [
    "## **INTRODUÇÃO**"
   ]
  },
  {
   "cell_type": "markdown",
   "metadata": {},
   "source": [
    "### **Conceito dados geoespaciais utilizados**"
   ]
  },
  {
   "cell_type": "markdown",
   "metadata": {},
   "source": [
    "#### **Ponto**"
   ]
  },
  {
   "cell_type": "markdown",
   "metadata": {},
   "source": [
    "Uma coordenada definida por latitude e longitude. Por exemplo a localização das pessoas que serão usadas no projeto.  \n",
    "\n",
    "![Ponto](https://user-images.githubusercontent.com/111579476/196970550-1d1b62df-48e5-4370-9f1c-dea9a4d33fc7.png)  \n",
    "\n",
    "Disponível em: https://www.slideshare.net/MdYousufGazi/introductory-gis"
   ]
  },
  {
   "cell_type": "markdown",
   "metadata": {},
   "source": [
    "#### **Polígono**"
   ]
  },
  {
   "cell_type": "markdown",
   "metadata": {},
   "source": [
    "São os pontos interligados com uma área delimitada por dentro, ou seja, fechados por dentro. Cada região que compõem o município pode ser expressa por um polígono e será essencial no objetivo do trabalho.\n",
    "\n",
    "![Poligono](https://user-images.githubusercontent.com/111579476/196970893-096e611b-33f7-4887-8506-730b0ba17b9c.png)\n",
    " \n",
    "Disponível em: https://www.slideshare.net/MdYousufGazi/introductory-gis "
   ]
  },
  {
   "cell_type": "markdown",
   "metadata": {},
   "source": [
    "#### **Line String**"
   ]
  },
  {
   "cell_type": "markdown",
   "metadata": {},
   "source": [
    "São os pontos interligados. No arquivo GeoJSON representa a cidade.\n",
    "\n",
    "![Line_String](https://user-images.githubusercontent.com/111579476/196971610-e524a0e8-767e-4d19-bc97-d542e70c0de2.png)  \n",
    "Disponível em: http://132.72.155.230:3838/js/geojson-1.html"
   ]
  },
  {
   "cell_type": "markdown",
   "metadata": {},
   "source": [
    "### **GIS (Sistemas de Informação Geográfica)**"
   ]
  },
  {
   "cell_type": "markdown",
   "metadata": {},
   "source": [
    "\" Um sistema de informação geográfica (GIS) é um sistema que cria, gerencia, analisa e mapeia todos os tipos de dados. GIS conecta dados a um mapa, integrando dados de localização (onde as coisas estão) com todos os tipos de informações descritivas (como as coisas são lá). Isso fornece uma base para mapeamento e análise que é usada na ciência e em quase todos os setores. O GIS ajuda os usuários a entender padrões, relacionamentos e contexto geográfico. Os benefícios incluem melhor comunicação e eficiência, bem como melhor gestão e tomada de decisões.\"   \n",
    "Disponível em: https://www.esri.com/pt-br/what-is-gis/overview"
   ]
  },
  {
   "cell_type": "markdown",
   "metadata": {},
   "source": [
    "Utilizou-se o conceito de Intersecção presente na nomenclatura do GIS que se baseia na entrada de tipos de geometria (ponto, polígonos, linhas) e a saída resulta na sobreposição desses objetos espacial, no contexto do projeto verificou se os pontos geográficos das pessoas estão dentro dos limites de um poígono da região A, B, C e assim por diante.  \n",
    "\n",
    "<img width=\"355\" alt=\"Intersect\" src=\"https://user-images.githubusercontent.com/111579476/196972254-69472111-cf51-405e-92a5-b81eb1f6d9fa.png\">  \n",
    "\n",
    "\n",
    "Disponível em: https://pro.arcgis.com/en/pro-app/latest/tool-reference/analysis/intersect.htm"
   ]
  },
  {
   "cell_type": "markdown",
   "metadata": {},
   "source": [
    "## **ETAPA INICIAL**"
   ]
  },
  {
   "cell_type": "markdown",
   "metadata": {},
   "source": [
    "### **Análise**"
   ]
  },
  {
   "cell_type": "code",
   "execution_count": null,
   "metadata": {},
   "outputs": [],
   "source": [
    "# Definição da biblioteca\n",
    "import os \n",
    "import json\n",
    "import pandas as pd\n",
    "import logging\n",
    "from pandas.io.json import json_normalize\n",
    "import geopandas as gpd\n",
    "from shapely.geometry import Polygon\n",
    "from shapely.geometry import Point\n",
    "import shapely.speedups as sp"
   ]
  },
  {
   "cell_type": "code",
   "execution_count": null,
   "metadata": {},
   "outputs": [],
   "source": [
    "# Ver o diretório atual\n",
    "diretorio = os.getcwd()\n"
   ]
  },
  {
   "cell_type": "code",
   "execution_count": null,
   "metadata": {},
   "outputs": [],
   "source": [
    "# Ler o arquivo com as coordenadas Lat e Long de uma população em um município\n",
    "diretorio = os.path.abspath(r'../') # retornar um diretório\n",
    "dataset_principal = pd.read_csv(diretorio + \"\\Dataset\\Id_Coord.csv\", sep = \",\", encoding = \"UTF-8\" )"
   ]
  },
  {
   "cell_type": "code",
   "execution_count": null,
   "metadata": {},
   "outputs": [],
   "source": [
    "# Cabeçalho do dataset\n",
    "dataset_principal.head()"
   ]
  },
  {
   "cell_type": "code",
   "execution_count": null,
   "metadata": {},
   "outputs": [],
   "source": [
    "# Últimas linhas\n",
    "dataset_principal.tail()"
   ]
  },
  {
   "cell_type": "code",
   "execution_count": null,
   "metadata": {},
   "outputs": [],
   "source": [
    "# Verificar os tipos das variáveis\n",
    "dataset_principal.dtypes"
   ]
  },
  {
   "cell_type": "code",
   "execution_count": null,
   "metadata": {},
   "outputs": [],
   "source": [
    "# carregar o arquivo em formato geojson, usa-se para ler como json\n",
    "with open(diretorio + '\\Shapes\\Regiao.geojson', encoding= 'UTF-8') as f:\n",
    "        datajson = json.load(f)"
   ]
  },
  {
   "cell_type": "code",
   "execution_count": null,
   "metadata": {},
   "outputs": [],
   "source": [
    "# converter em dataframe baseado na estrutura desse arquivo\n",
    "dataset_geojson_regiao = json_normalize(datajson[\"features\"])"
   ]
  },
  {
   "cell_type": "code",
   "execution_count": null,
   "metadata": {},
   "outputs": [],
   "source": [
    "dataset_geojson_regiao.head()"
   ]
  },
  {
   "cell_type": "code",
   "execution_count": null,
   "metadata": {},
   "outputs": [],
   "source": [
    "# Dimensionalidade dos dados (linha, coluna)\n",
    "dataset_geojson_regiao.shape"
   ]
  },
  {
   "cell_type": "markdown",
   "metadata": {},
   "source": [
    "### **Tratamento**"
   ]
  },
  {
   "cell_type": "code",
   "execution_count": null,
   "metadata": {},
   "outputs": [],
   "source": [
    "# Percebe-se que o dataset do geojson precisa ser tratado e consequetemente extrair as coordenadas da latitude e longitude presente em um polígono\n",
    "# Nesse caso, se quer trabalhar com polígono e não a cidade do tipo LineString.\n",
    "# Obs: Se for somente polígonos não há necessidade dessa filtragem\n",
    "data_geojson_regiao = dataset_geojson_regiao.loc[dataset_geojson_regiao[\"geometry.type\"] == \"Polygon\", [\"geometry.coordinates\", \"properties.name\"]]\n",
    " "
   ]
  },
  {
   "cell_type": "code",
   "execution_count": null,
   "metadata": {},
   "outputs": [],
   "source": [
    "# Extração das coordenadas da coluna geometry.coordinates\n",
    "# Primeiro passo retirar uma série de colchetes que é responsável por formar o polígono\n",
    "# Cada linha do dataset representa um ponto de uma tal região com coordenadas\n",
    "dataset_map = (data_geojson_regiao['geometry.coordinates'].apply(lambda r: [(coor[0],coor[1]) for coor in r[0]])\n",
    "        .apply(pd.Series).stack()\n",
    "        .reset_index(level=1).rename(columns={0:'geometry.coordinates',\"level_1\":\"point\"})\n",
    "        .join(data_geojson_regiao.drop('geometry.coordinates',1), how='left')).reset_index(level=0)"
   ]
  },
  {
   "cell_type": "code",
   "execution_count": null,
   "metadata": {},
   "outputs": [],
   "source": [
    "dataset_map"
   ]
  },
  {
   "cell_type": "code",
   "execution_count": null,
   "metadata": {},
   "outputs": [],
   "source": [
    "dataset_map.shape"
   ]
  },
  {
   "cell_type": "code",
   "execution_count": null,
   "metadata": {},
   "outputs": [],
   "source": [
    "# Obter a latitude e longitude\n",
    "dataset_map[['long','lat']] = dataset_map['geometry.coordinates'].apply(pd.Series)\n",
    "dataset_map\n"
   ]
  },
  {
   "cell_type": "code",
   "execution_count": null,
   "metadata": {},
   "outputs": [],
   "source": [
    "# Excluir as colunas irrelevantes como index, point e claro geometry.coordinates que já se trabalhou\n",
    "dataset_map = dataset_map.drop(dataset_map.columns[[0,1, 2]],axis = 1) # index das colunas\n",
    "dataset_map\n"
   ]
  },
  {
   "cell_type": "markdown",
   "metadata": {},
   "source": [
    "**Resumo**:  \n",
    "- No dataset do arquivo geojson que se carregou veio para cada linha um polígono que é formado por varíos pontos da coluna geometry.coordinates;\n",
    "- Assim se fez um tratamento para o dataset ficasse para cada linha fosse um ponto de uma tal região e não um polígono formado por uma série de valores encontrados no atributo geometry.coordinates;\n",
    "- Como resultado se obteve a latitude e longitude dos vários pontos da região. Dessa forma possibilita no desenvolvimento da etapa de automatização."
   ]
  },
  {
   "cell_type": "markdown",
   "metadata": {},
   "source": [
    "## **AUTOMATIZAÇÃO**"
   ]
  },
  {
   "cell_type": "code",
   "execution_count": null,
   "metadata": {},
   "outputs": [],
   "source": [
    "# Função que retornará o dataset que se quer saber a região onde reside\n",
    "def geolocalizacao_get(dataset, dataset_map, id_unico):\n",
    "    dataset_det_regiao = pd.DataFrame() # o dataset final que será retornado no final\n",
    "    # Loop for que terá o valor de uma região, ou seja, passará por todas presentes no dataset_map\n",
    "    for name_regiao in  sorted (dataset_map[\"properties.name\"].unique()):\n",
    "        dataset_each_regiao = dataset_map.loc[dataset_map[\"properties.name\"] == name_regiao] # filtrar por região o dataset\n",
    "        # Encontrar coordenadas das pessoas próximas da região\n",
    "        PositionScale = dataset.index[(dataset.Long >= min(dataset_each_regiao.long)) &                     # oeste\n",
    "            (dataset.Long <= max(dataset_each_regiao.long)) &                                               # leste\n",
    "            (dataset.Lat <= max(dataset_each_regiao.lat)) &                                                 # norte\n",
    "            (dataset.Lat >= min(dataset_each_regiao.lat))].tolist()                                         # sul\n",
    "        Position_Scale_P = dataset.iloc[PositionScale]  \n",
    "        if(Position_Scale_P.shape[0] == 0): # se nenhuma foi encontrado\n",
    "            continue\n",
    "        # Converter os dois datasets como objeto geodataframe\n",
    "        Polygon_Regiao = gpd.GeoDataFrame(index = [0], crs = 'epsg:4326', geometry = [Polygon(zip(dataset_each_regiao[\"lat\"], dataset_each_regiao[\"long\"]))])\n",
    "        Point_Coord = gpd.GeoDataFrame(Position_Scale_P, geometry = gpd.points_from_xy(Position_Scale_P[\"Lat\"], Position_Scale_P[\"Long\"])) # conversão para geodataframe na  localização\n",
    "        sp.enable() # consulta mais rápida\n",
    "        Geolocalizacao = Point_Coord.within(Polygon_Regiao.loc[0, 'geometry']) # verifcar os pontos retidos no polígono\n",
    "        if(not any(Geolocalizacao)): # se nenhuma coordenada foi localizada em uma tal região \n",
    "            continue\n",
    "        Position_Scale_P_Loc = Position_Scale_P.loc[Geolocalizacao]\n",
    "        Position_Scale_P_Loc[\"Regiao\"] = name_regiao # criar coluna região e colocar o nome da região\n",
    "        # Adicionar o dataset com a região localizada no dataset final\n",
    "        dataset_det_regiao = dataset_det_regiao.append(pd.DataFrame(data = Position_Scale_P_Loc[Position_Scale_P_Loc.columns.difference(['geometry'])]), ignore_index=True)\n",
    "    dataset_coord_not_find = dataset[~dataset[id_unico].isin(dataset_det_regiao[id_unico])] # consulta para saber quem não foi localizado em uma região\n",
    "    dataset_coord_not_find[\"Regiao\"] = \"Outros Municípios\" # Colocar como Outro Município\n",
    "    # Finalmente juntar como um só, assim se preserva com a mesma quantidade de linha e a coluna adicional região\n",
    "    dataset_det_regiao = pd.concat([dataset_det_regiao, dataset_coord_not_find])\n",
    "    return dataset_det_regiao"
   ]
  },
  {
   "cell_type": "code",
   "execution_count": null,
   "metadata": {},
   "outputs": [],
   "source": [
    "dataset_final = geolocalizacao_get(dataset_principal, dataset_map, \"CodMunicipe\")\n"
   ]
  },
  {
   "cell_type": "code",
   "execution_count": null,
   "metadata": {},
   "outputs": [],
   "source": [
    "dataset_final"
   ]
  },
  {
   "cell_type": "markdown",
   "metadata": {},
   "source": [
    "## **MACHINE LEARNING**"
   ]
  },
  {
   "cell_type": "markdown",
   "metadata": {},
   "source": [
    "### **Pré-Processamento**"
   ]
  },
  {
   "cell_type": "code",
   "execution_count": null,
   "metadata": {},
   "outputs": [],
   "source": [
    "# Fazer uma cópia e retirar Outros Municípios\n",
    "dataset_final2 = dataset_final.loc[dataset_final.Regiao != \"Outros Municípios\"]"
   ]
  },
  {
   "cell_type": "code",
   "execution_count": null,
   "metadata": {},
   "outputs": [],
   "source": [
    "dataset_final2"
   ]
  },
  {
   "cell_type": "markdown",
   "metadata": {},
   "source": [
    "Amostragem"
   ]
  },
  {
   "cell_type": "code",
   "execution_count": null,
   "metadata": {},
   "outputs": [],
   "source": [
    "dataset_final2[\"Regiao\"].value_counts()"
   ]
  },
  {
   "cell_type": "code",
   "execution_count": null,
   "metadata": {},
   "outputs": [],
   "source": [
    "from sklearn.model_selection import train_test_split\n",
    "# 20% dos dados originais\n",
    "x_treino, x_teste, y_treino, amostra_estra = train_test_split(dataset_final2.drop('Regiao', axis = 1), dataset_final2['Regiao'], stratify = dataset_final2['Regiao'], test_size = 0.2)"
   ]
  },
  {
   "cell_type": "code",
   "execution_count": null,
   "metadata": {},
   "outputs": [],
   "source": [
    "amostra_estra"
   ]
  },
  {
   "cell_type": "code",
   "execution_count": null,
   "metadata": {},
   "outputs": [],
   "source": [
    "amostra_estra.value_counts()"
   ]
  },
  {
   "cell_type": "code",
   "execution_count": null,
   "metadata": {},
   "outputs": [],
   "source": [
    "# criar um indice\n",
    "amostra_estra = amostra_estra.index"
   ]
  },
  {
   "cell_type": "code",
   "execution_count": null,
   "metadata": {},
   "outputs": [],
   "source": [
    "# coloca no dataset a amostra escolhida\n",
    "dataset_final_amostra = dataset_final2.loc[amostra_estra, :]\n",
    "\n",
    "dataset_final_amostra"
   ]
  },
  {
   "cell_type": "code",
   "execution_count": null,
   "metadata": {},
   "outputs": [],
   "source": [
    "# o restante que é a população \n",
    "dataset_final2_res= dataset_final2.loc[~dataset_final2.index.isin(amostra_estra), :]\n",
    "dataset_final2_res"
   ]
  },
  {
   "cell_type": "markdown",
   "metadata": {},
   "source": [
    "Extrair X, Y e Z"
   ]
  },
  {
   "cell_type": "markdown",
   "metadata": {},
   "source": [
    "Para o modelo funcionar é necessário deixar os dados da latitude e longitude numa escala próxima a zero, ou seja, uma normalização e também representar em três dimensões com uso de seno e cosseno."
   ]
  },
  {
   "cell_type": "code",
   "execution_count": null,
   "metadata": {},
   "outputs": [],
   "source": [
    "import numpy as np\n",
    "dataset_final_amostra['x'] = np.cos(dataset_final_amostra['Lat']) * np.cos(dataset_final_amostra['Long'])\n",
    "dataset_final_amostra['y'] = np.cos(dataset_final_amostra['Lat']) * np.sin(dataset_final_amostra['Long'])\n",
    "dataset_final_amostra['z'] = np.sin(dataset_final_amostra['Lat'])\n",
    "dataset_final_amostra"
   ]
  },
  {
   "cell_type": "code",
   "execution_count": null,
   "metadata": {},
   "outputs": [],
   "source": [
    "dataset_final_amostra[[\"x\", \"y\", \"z\"]].describe()"
   ]
  },
  {
   "cell_type": "markdown",
   "metadata": {},
   "source": [
    "### **Clusterização**"
   ]
  },
  {
   "cell_type": "code",
   "execution_count": null,
   "metadata": {},
   "outputs": [],
   "source": [
    "len(dataset_final_amostra[\"Regiao\"].unique())"
   ]
  },
  {
   "cell_type": "code",
   "execution_count": null,
   "metadata": {},
   "outputs": [],
   "source": [
    "# Fazer pela clusterização hieráquica, k-means ou DBSCAN. O melhor é AgglomerativeClustering\n",
    "from sklearn.cluster import AgglomerativeClustering, KMeans, DBSCAN\n",
    "agc = AgglomerativeClustering(n_clusters = 19, affinity='euclidean', linkage='ward')\n",
    "dataset_final_amostra['cluster'] = agc.fit_predict(dataset_final_amostra[['Lat','Long']])\n",
    "# kmeans = KMeans(19)\n",
    "# clusters = kmeans.fit_predict(dataset_final_amostra[['Lat','Long']])\n",
    "# dataset_final_amostra['cluster'] = kmeans.predict(dataset_final_amostra[['Lat','Long']])\n",
    "# DBSCAN:\n",
    "# dataset_final_amostra['cluster'] = DBSCAN(eps = 0.005, min_samples = 4).fit_predict(dataset_final_amostra[['Lat','Long']])"
   ]
  },
  {
   "cell_type": "code",
   "execution_count": null,
   "metadata": {},
   "outputs": [],
   "source": [
    "dataset_final_amostra"
   ]
  },
  {
   "cell_type": "code",
   "execution_count": null,
   "metadata": {},
   "outputs": [],
   "source": [
    "sorted (dataset_final_amostra[\"cluster\"].unique())"
   ]
  },
  {
   "cell_type": "code",
   "execution_count": null,
   "metadata": {},
   "outputs": [],
   "source": [
    "\n",
    "regiao_map = gpd.read_file(diretorio + '\\Shapes\\Regiao.geojson')\n",
    "regiao_map\n"
   ]
  },
  {
   "cell_type": "code",
   "execution_count": null,
   "metadata": {},
   "outputs": [],
   "source": [
    "# Olhar a distribuição do cluster nas regiões\n",
    "import matplotlib.pyplot as plt \n",
    "import seaborn as sns\n",
    "fig, ax = plt.subplots(figsize = (12, 10))\n",
    "for x, dataset in dataset_final_amostra.groupby(\"cluster\"):\n",
    "    ax = sns.scatterplot(x= dataset[\"Long\"], y= dataset[\"Lat\"], label=\"Cluster {:g}\".format(x), data=dataset) \n",
    "regiao_map.plot(ax=ax, facecolor=\"none\", edgecolor= \"blue\");\n",
    "plt.axis('off')\n",
    "h_legend = plt.legend(ncol=2)   \n",
    "# Ajustar a legenda horizontalmente \n",
    "renderer = plt.gcf().canvas.get_renderer()\n",
    "y_shift = -0.2*h_legend.texts[0].get_window_extent(renderer).height\n",
    "h_legend.texts[1].set_position((0, y_shift))\n",
    "plt.tight_layout();"
   ]
  },
  {
   "cell_type": "markdown",
   "metadata": {},
   "source": [
    "### **Atributos Previsores e Alvo**"
   ]
  },
  {
   "cell_type": "code",
   "execution_count": null,
   "metadata": {},
   "outputs": [],
   "source": [
    "dataset_final_amostra"
   ]
  },
  {
   "cell_type": "code",
   "execution_count": null,
   "metadata": {},
   "outputs": [],
   "source": [
    "dataset_final_amostra.dtypes"
   ]
  },
  {
   "cell_type": "code",
   "execution_count": null,
   "metadata": {},
   "outputs": [],
   "source": [
    "previsores = dataset_final_amostra.iloc[:, 4:8].values\n",
    "previsores"
   ]
  },
  {
   "cell_type": "code",
   "execution_count": null,
   "metadata": {},
   "outputs": [],
   "source": [
    "previsores.shape"
   ]
  },
  {
   "cell_type": "code",
   "execution_count": null,
   "metadata": {},
   "outputs": [],
   "source": [
    "alvo = dataset_final_amostra.iloc[:, 3].values\n",
    "alvo"
   ]
  },
  {
   "cell_type": "code",
   "execution_count": null,
   "metadata": {},
   "outputs": [],
   "source": [
    "alvo.shape"
   ]
  },
  {
   "cell_type": "markdown",
   "metadata": {},
   "source": [
    "#### **Codificação de variável categórica (Alvo)**"
   ]
  },
  {
   "cell_type": "code",
   "execution_count": null,
   "metadata": {},
   "outputs": [],
   "source": [
    "from sklearn.preprocessing import LabelEncoder"
   ]
  },
  {
   "cell_type": "code",
   "execution_count": null,
   "metadata": {},
   "outputs": [],
   "source": [
    "le = LabelEncoder()\n",
    "le.fit(alvo)\n",
    "alvo_cond = le.transform(alvo)\n"
   ]
  },
  {
   "cell_type": "markdown",
   "metadata": {},
   "source": [
    "### **Previsores e Alvos da Amostra em Arquivos Disponíveis** "
   ]
  },
  {
   "cell_type": "code",
   "execution_count": null,
   "metadata": {},
   "outputs": [],
   "source": [
    "\n",
    "\"\"\"previsores = pd.read_csv(diretorio + '/Variaveis/previsores_amostra.csv',header=None)\n",
    "previsores = previsores.values\n",
    "previsores\"\"\""
   ]
  },
  {
   "cell_type": "code",
   "execution_count": null,
   "metadata": {},
   "outputs": [],
   "source": [
    "\"\"\"alvo_cond = pd.read_csv(diretorio + '/Variaveis/alvo_amostra.csv',header=None)\n",
    "alvo_cond = alvo_cond.iloc[:, 0].values\n",
    "alvo_cond\"\"\""
   ]
  },
  {
   "cell_type": "markdown",
   "metadata": {},
   "source": [
    "### **Base de Treino e Teste**"
   ]
  },
  {
   "cell_type": "code",
   "execution_count": null,
   "metadata": {},
   "outputs": [],
   "source": [
    "from sklearn.model_selection import train_test_split"
   ]
  },
  {
   "cell_type": "code",
   "execution_count": null,
   "metadata": {},
   "outputs": [],
   "source": [
    "# x: previsores e y: alvo\n",
    "x_treino, x_teste, y_treino, y_teste = train_test_split(previsores, alvo_cond, \n",
    "                                                           stratify = alvo_cond, test_size= 0.30)"
   ]
  },
  {
   "cell_type": "code",
   "execution_count": null,
   "metadata": {},
   "outputs": [],
   "source": [
    "x_treino.shape"
   ]
  },
  {
   "cell_type": "code",
   "execution_count": null,
   "metadata": {},
   "outputs": [],
   "source": [
    "x_treino"
   ]
  },
  {
   "cell_type": "code",
   "execution_count": null,
   "metadata": {},
   "outputs": [],
   "source": [
    "x_teste.shape"
   ]
  },
  {
   "cell_type": "code",
   "execution_count": null,
   "metadata": {},
   "outputs": [],
   "source": [
    "x_teste"
   ]
  },
  {
   "cell_type": "code",
   "execution_count": null,
   "metadata": {},
   "outputs": [],
   "source": [
    "y_treino.shape"
   ]
  },
  {
   "cell_type": "code",
   "execution_count": null,
   "metadata": {},
   "outputs": [],
   "source": [
    "y_treino"
   ]
  },
  {
   "cell_type": "code",
   "execution_count": null,
   "metadata": {},
   "outputs": [],
   "source": [
    "y_teste.shape"
   ]
  },
  {
   "cell_type": "code",
   "execution_count": null,
   "metadata": {},
   "outputs": [],
   "source": [
    "y_teste"
   ]
  },
  {
   "cell_type": "markdown",
   "metadata": {},
   "source": [
    "### **Máquina de Vetores de Suporte (SVM)**"
   ]
  },
  {
   "cell_type": "code",
   "execution_count": null,
   "metadata": {},
   "outputs": [],
   "source": [
    "from sklearn.svm import SVC\n"
   ]
  },
  {
   "cell_type": "code",
   "execution_count": null,
   "metadata": {},
   "outputs": [],
   "source": [
    "svm = SVC(kernel = 'rbf', random_state = 1, C = 50)\n",
    "svm.fit(x_treino, y_treino)"
   ]
  },
  {
   "cell_type": "code",
   "execution_count": null,
   "metadata": {},
   "outputs": [],
   "source": [
    "previsoes_svm = svm.predict(x_teste)\n",
    "previsoes_svm"
   ]
  },
  {
   "cell_type": "code",
   "execution_count": null,
   "metadata": {},
   "outputs": [],
   "source": [
    "y_teste"
   ]
  },
  {
   "cell_type": "code",
   "execution_count": null,
   "metadata": {},
   "outputs": [],
   "source": [
    "from sklearn.metrics import accuracy_score, confusion_matrix, classification_report"
   ]
  },
  {
   "cell_type": "code",
   "execution_count": null,
   "metadata": {},
   "outputs": [],
   "source": [
    "print(\" Acurácia: %.2f%%\" % (accuracy_score(y_teste, previsoes_svm) * 100.0))"
   ]
  },
  {
   "cell_type": "code",
   "execution_count": null,
   "metadata": {},
   "outputs": [],
   "source": [
    "# le.inverse_transform(): volta a variável decodificada\n",
    "pd.crosstab(le.inverse_transform(y_teste), le.inverse_transform(previsoes_svm), rownames=['Atual'], colnames=['Previsto'], margins=True)"
   ]
  },
  {
   "cell_type": "code",
   "execution_count": null,
   "metadata": {},
   "outputs": [],
   "source": [
    "print(classification_report(le.inverse_transform(y_teste), le.inverse_transform(previsoes_svm)))"
   ]
  },
  {
   "cell_type": "markdown",
   "metadata": {},
   "source": [
    "#### **Análise dados de treino**"
   ]
  },
  {
   "cell_type": "code",
   "execution_count": null,
   "metadata": {},
   "outputs": [],
   "source": [
    "previsoes_treino = svm.predict(x_treino)\n",
    "previsoes_treino"
   ]
  },
  {
   "cell_type": "code",
   "execution_count": null,
   "metadata": {},
   "outputs": [],
   "source": [
    "print(\" Acurácia: %.2f%%\" % (accuracy_score(y_treino, previsoes_treino) * 100.0))"
   ]
  },
  {
   "cell_type": "code",
   "execution_count": null,
   "metadata": {},
   "outputs": [],
   "source": [
    "pd.crosstab(le.inverse_transform(y_treino), le.inverse_transform(previsoes_treino), rownames=['Atual'], colnames=['Previsto'], margins=True)"
   ]
  },
  {
   "cell_type": "code",
   "execution_count": null,
   "metadata": {},
   "outputs": [],
   "source": [
    "print(classification_report(le.inverse_transform(y_treino), le.inverse_transform(previsoes_treino)))"
   ]
  },
  {
   "cell_type": "markdown",
   "metadata": {},
   "source": [
    "#### **Validação Cruzada**"
   ]
  },
  {
   "cell_type": "code",
   "execution_count": null,
   "metadata": {},
   "outputs": [],
   "source": [
    "from sklearn.model_selection import KFold \n",
    "from sklearn.model_selection import cross_val_score"
   ]
  },
  {
   "cell_type": "code",
   "execution_count": null,
   "metadata": {},
   "outputs": [],
   "source": [
    "# separando os dados em folds\n",
    "kfold = KFold(n_splits = 30, shuffle = True, random_state = 5)"
   ]
  },
  {
   "cell_type": "code",
   "execution_count": null,
   "metadata": {},
   "outputs": [],
   "source": [
    "# Criando o modelo\n",
    "modelo = SVC(kernel = 'rbf', random_state = 1, C = 50 )\n",
    "resultado = cross_val_score(modelo, previsores, alvo_cond, cv = kfold)\n",
    "\n",
    "# usamos a média e o desvio padrão\n",
    "print(\" Acurácia média: %.2f%%\" % (resultado.mean() * 100.0))"
   ]
  },
  {
   "cell_type": "markdown",
   "metadata": {},
   "source": [
    "### **Árvore de Decisão**"
   ]
  },
  {
   "cell_type": "code",
   "execution_count": null,
   "metadata": {},
   "outputs": [],
   "source": [
    "from sklearn.tree import DecisionTreeClassifier"
   ]
  },
  {
   "cell_type": "code",
   "execution_count": null,
   "metadata": {},
   "outputs": [],
   "source": [
    "arvore = DecisionTreeClassifier(criterion = 'entropy', random_state = 0)\n",
    "arvore.fit(x_treino, y_treino)"
   ]
  },
  {
   "cell_type": "code",
   "execution_count": null,
   "metadata": {},
   "outputs": [],
   "source": [
    "previsoes_arvore = arvore.predict(x_teste)\n",
    "previsoes_arvore"
   ]
  },
  {
   "cell_type": "code",
   "execution_count": null,
   "metadata": {},
   "outputs": [],
   "source": [
    "y_teste"
   ]
  },
  {
   "cell_type": "code",
   "execution_count": null,
   "metadata": {},
   "outputs": [],
   "source": [
    "from sklearn.metrics import accuracy_score, confusion_matrix, classification_report"
   ]
  },
  {
   "cell_type": "code",
   "execution_count": null,
   "metadata": {},
   "outputs": [],
   "source": [
    "print(\" Acurácia: %.2f%%\" % (accuracy_score(y_teste, previsoes_arvore) * 100.0))"
   ]
  },
  {
   "cell_type": "code",
   "execution_count": null,
   "metadata": {},
   "outputs": [],
   "source": [
    "pd.crosstab(le.inverse_transform(y_teste), le.inverse_transform(previsoes_arvore), rownames=['Atual'], colnames=['Previsto'], margins=True)"
   ]
  },
  {
   "cell_type": "code",
   "execution_count": null,
   "metadata": {},
   "outputs": [],
   "source": [
    "print(classification_report(le.inverse_transform(y_teste), le.inverse_transform(previsoes_arvore)))"
   ]
  },
  {
   "cell_type": "markdown",
   "metadata": {},
   "source": [
    "#### **Análise dados de treino**"
   ]
  },
  {
   "cell_type": "code",
   "execution_count": null,
   "metadata": {},
   "outputs": [],
   "source": [
    "previsoes_treino = arvore.predict(x_treino)\n",
    "previsoes_treino"
   ]
  },
  {
   "cell_type": "code",
   "execution_count": null,
   "metadata": {},
   "outputs": [],
   "source": [
    "accuracy_score(y_treino, previsoes_treino)"
   ]
  },
  {
   "cell_type": "code",
   "execution_count": null,
   "metadata": {},
   "outputs": [],
   "source": [
    "pd.crosstab(le.inverse_transform(y_treino), le.inverse_transform(previsoes_treino), rownames=['Atual'], colnames=['Previsto'], margins=True)"
   ]
  },
  {
   "cell_type": "markdown",
   "metadata": {},
   "source": [
    "#### **Validação Cruzada**"
   ]
  },
  {
   "cell_type": "code",
   "execution_count": null,
   "metadata": {},
   "outputs": [],
   "source": [
    "from sklearn.model_selection import KFold\n",
    "from sklearn.model_selection import cross_val_score"
   ]
  },
  {
   "cell_type": "code",
   "execution_count": null,
   "metadata": {},
   "outputs": [],
   "source": [
    "# Separando os dados em folds\n",
    "kfold = KFold(n_splits = 30, shuffle=True, random_state = 5)"
   ]
  },
  {
   "cell_type": "code",
   "execution_count": null,
   "metadata": {},
   "outputs": [],
   "source": [
    "modelo = DecisionTreeClassifier(criterion = 'entropy', random_state = 0)\n",
    "resultado = cross_val_score(modelo, previsores, alvo_cond, cv = kfold)\n",
    "# Usamos a média e o desvio padrão\n",
    "print(\"Acurácia Média: %.2f%%\" % (resultado.mean() * 100.0))"
   ]
  },
  {
   "cell_type": "markdown",
   "metadata": {},
   "source": [
    "## **Random Forest**"
   ]
  },
  {
   "cell_type": "code",
   "execution_count": null,
   "metadata": {},
   "outputs": [],
   "source": [
    "from sklearn.ensemble import RandomForestClassifier"
   ]
  },
  {
   "cell_type": "code",
   "execution_count": null,
   "metadata": {},
   "outputs": [],
   "source": [
    "random = RandomForestClassifier(n_estimators = 200, criterion = 'entropy', random_state = 0)\n",
    "random.fit(x_treino, y_treino)"
   ]
  },
  {
   "cell_type": "code",
   "execution_count": null,
   "metadata": {},
   "outputs": [],
   "source": [
    "previsoes_random = random.predict(x_teste)\n",
    "previsoes_random"
   ]
  },
  {
   "cell_type": "code",
   "execution_count": null,
   "metadata": {},
   "outputs": [],
   "source": [
    "y_teste"
   ]
  },
  {
   "cell_type": "code",
   "execution_count": null,
   "metadata": {},
   "outputs": [],
   "source": [
    "from sklearn.metrics import accuracy_score, confusion_matrix, classification_report"
   ]
  },
  {
   "cell_type": "code",
   "execution_count": null,
   "metadata": {},
   "outputs": [],
   "source": [
    "print(\" Acurácia: %.2f%%\" % (accuracy_score(y_teste, previsoes_random) * 100.0))"
   ]
  },
  {
   "cell_type": "code",
   "execution_count": null,
   "metadata": {},
   "outputs": [],
   "source": [
    "pd.crosstab(le.inverse_transform(y_teste), le.inverse_transform(previsoes_random), rownames=['Atual'], colnames=['Previsto'], margins=True)"
   ]
  },
  {
   "cell_type": "code",
   "execution_count": null,
   "metadata": {},
   "outputs": [],
   "source": [
    "print(classification_report(le.inverse_transform(y_teste), le.inverse_transform(previsoes_random)))"
   ]
  },
  {
   "cell_type": "markdown",
   "metadata": {},
   "source": [
    "#### **Análise dados de treino**"
   ]
  },
  {
   "cell_type": "code",
   "execution_count": null,
   "metadata": {},
   "outputs": [],
   "source": [
    "previsoes_treino = random.predict(x_treino)\n",
    "previsoes_treino"
   ]
  },
  {
   "cell_type": "code",
   "execution_count": null,
   "metadata": {},
   "outputs": [],
   "source": [
    "accuracy_score(y_treino, previsoes_treino)"
   ]
  },
  {
   "cell_type": "code",
   "execution_count": null,
   "metadata": {},
   "outputs": [],
   "source": [
    "pd.crosstab(le.inverse_transform(y_treino), le.inverse_transform(previsoes_treino), rownames=['Atual'], colnames=['Previsto'], margins=True)"
   ]
  },
  {
   "cell_type": "markdown",
   "metadata": {},
   "source": [
    "#### **Validação Cruzada**"
   ]
  },
  {
   "cell_type": "code",
   "execution_count": null,
   "metadata": {},
   "outputs": [],
   "source": [
    "from sklearn.model_selection import KFold\n",
    "from sklearn.model_selection import cross_val_score"
   ]
  },
  {
   "cell_type": "code",
   "execution_count": null,
   "metadata": {
    "id": "ETYEB99OGOb9"
   },
   "outputs": [],
   "source": [
    "# Separando os dados em folds\n",
    "kfold = KFold(n_splits = 30, shuffle=True, random_state = 5)"
   ]
  },
  {
   "cell_type": "code",
   "execution_count": null,
   "metadata": {
    "id": "7GHcsag3GOb9"
   },
   "outputs": [],
   "source": [
    "# Criando o modelo\n",
    "modelo = RandomForestClassifier(n_estimators=200, criterion='entropy', random_state = 0)\n",
    "resultado = cross_val_score(modelo, previsores, alvo_cond, cv = kfold)\n",
    "\n",
    "# Usamos a média e o desvio padrão\n",
    "print(\"Acurácia Média: %.2f%%\" % (resultado.mean() * 100.0))"
   ]
  },
  {
   "cell_type": "markdown",
   "metadata": {},
   "source": [
    "## **XGBoost**"
   ]
  },
  {
   "cell_type": "markdown",
   "metadata": {},
   "source": [
    "https://xgboost.readthedocs.io/en/stable/"
   ]
  },
  {
   "cell_type": "code",
   "execution_count": null,
   "metadata": {},
   "outputs": [],
   "source": [
    "!pip install xgboost"
   ]
  },
  {
   "cell_type": "code",
   "execution_count": null,
   "metadata": {},
   "outputs": [],
   "source": [
    "from xgboost import XGBClassifier "
   ]
  },
  {
   "cell_type": "code",
   "execution_count": null,
   "metadata": {},
   "outputs": [],
   "source": [
    "xg =  XGBClassifier(learning_rate=0.3, n_estimators=100, objective='multi:softmax', random_state=3)\n",
    "xg.fit(x_treino, y_treino)"
   ]
  },
  {
   "cell_type": "code",
   "execution_count": null,
   "metadata": {},
   "outputs": [],
   "source": [
    "previsoes_xg = xg.predict(x_teste)\n",
    "previsoes_xg"
   ]
  },
  {
   "cell_type": "code",
   "execution_count": null,
   "metadata": {},
   "outputs": [],
   "source": [
    "y_teste"
   ]
  },
  {
   "cell_type": "code",
   "execution_count": null,
   "metadata": {},
   "outputs": [],
   "source": [
    "from sklearn.metrics import accuracy_score, confusion_matrix, classification_report"
   ]
  },
  {
   "cell_type": "code",
   "execution_count": null,
   "metadata": {},
   "outputs": [],
   "source": [
    "print(\"Acurácia: %.2f%%\" % (accuracy_score(y_teste, previsoes_xg) * 100.0))"
   ]
  },
  {
   "cell_type": "code",
   "execution_count": null,
   "metadata": {
    "id": "5PcyMmFqRZp1"
   },
   "outputs": [],
   "source": [
    "pd.crosstab(le.inverse_transform(y_teste), le.inverse_transform(previsoes_xg), rownames=['Atual'], colnames=['Previsto'], margins=True)"
   ]
  },
  {
   "cell_type": "markdown",
   "metadata": {},
   "source": [
    "#### **Análise dados de treino**"
   ]
  },
  {
   "cell_type": "code",
   "execution_count": null,
   "metadata": {},
   "outputs": [],
   "source": [
    "previsoes_treino = xg.predict(x_treino)\n",
    "previsoes_treino"
   ]
  },
  {
   "cell_type": "code",
   "execution_count": null,
   "metadata": {},
   "outputs": [],
   "source": [
    "accuracy_score(y_treino, previsoes_treino)"
   ]
  },
  {
   "cell_type": "code",
   "execution_count": null,
   "metadata": {},
   "outputs": [],
   "source": [
    "pd.crosstab(le.inverse_transform(y_treino), le.inverse_transform(previsoes_treino), rownames=['Atual'], colnames=['Previsto'], margins=True)"
   ]
  },
  {
   "cell_type": "markdown",
   "metadata": {
    "id": "gHvG_uWZLARo"
   },
   "source": [
    "### **Validação Cruzada**"
   ]
  },
  {
   "cell_type": "code",
   "execution_count": null,
   "metadata": {
    "id": "l3RZmFL_LARp"
   },
   "outputs": [],
   "source": [
    "from sklearn.model_selection import KFold\n",
    "from sklearn.model_selection import cross_val_score"
   ]
  },
  {
   "cell_type": "code",
   "execution_count": null,
   "metadata": {
    "id": "BKmF7defLARq"
   },
   "outputs": [],
   "source": [
    "# Separando os dados em folds\n",
    "kfold = KFold(n_splits = 30, shuffle=True, random_state = 5)"
   ]
  },
  {
   "cell_type": "code",
   "execution_count": null,
   "metadata": {
    "id": "1h7FUmsWLARr"
   },
   "outputs": [],
   "source": [
    "# Criando o modelo\n",
    "modelo = XGBClassifier(learning_rate=0.3, n_estimators=100, objective='multi:softmax', random_state=3)\n",
    "resultado = cross_val_score(modelo, previsores, alvo_cond, cv = kfold)\n",
    "\n",
    "# Usamos a média e o desvio padrão\n",
    "print(\"Acurácia Média: %.2f%%\" % (resultado.mean() * 100.0))"
   ]
  },
  {
   "cell_type": "markdown",
   "metadata": {},
   "source": [
    "## **LightGBM**"
   ]
  },
  {
   "cell_type": "code",
   "execution_count": null,
   "metadata": {},
   "outputs": [],
   "source": [
    "!pip install lightgbm"
   ]
  },
  {
   "cell_type": "code",
   "execution_count": null,
   "metadata": {
    "id": "HyJzU46uq9mQ"
   },
   "outputs": [],
   "source": [
    "import lightgbm as lgb "
   ]
  },
  {
   "cell_type": "code",
   "execution_count": null,
   "metadata": {
    "id": "D7GfTX-TxWh2"
   },
   "outputs": [],
   "source": [
    "# Dataset para treino\n",
    "dataset = lgb.Dataset(x_treino,label=y_treino)"
   ]
  },
  {
   "cell_type": "code",
   "execution_count": null,
   "metadata": {
    "id": "eRYtywqRxnRM"
   },
   "outputs": [],
   "source": [
    "# Parâmetros\n",
    "parametros = {'metric':'multi_logloss', # métrica para muitos atributos alvos\n",
    "              'objective':'multiclass', # classificação múltipla classes     \n",
    "              'learning_rate':0.03,\n",
    "              'boosting_type': 'gbdt',\n",
    "              'num_class': 19}"
   ]
  },
  {
   "cell_type": "code",
   "execution_count": null,
   "metadata": {},
   "outputs": [],
   "source": [
    "# treinamento\n",
    "lgbm=lgb.train(parametros,dataset, 200)\n"
   ]
  },
  {
   "cell_type": "code",
   "execution_count": null,
   "metadata": {
    "id": "FbY1sQrzvPFv"
   },
   "outputs": [],
   "source": [
    "previsoes_lgbm = lgbm.predict(x_teste)\n",
    "previsoes_lgbm"
   ]
  },
  {
   "cell_type": "code",
   "execution_count": null,
   "metadata": {},
   "outputs": [],
   "source": [
    "previsoes_lgbm.shape"
   ]
  },
  {
   "cell_type": "code",
   "execution_count": null,
   "metadata": {},
   "outputs": [],
   "source": [
    "previsoes_lgbm = [np.argmax(line) for line in previsoes_lgbm] # retorna o índice correspondendo cada valor. Por exemplo: Região A é 0 a coluna, então todos os valores serão 0\n",
    "previsoes_lgbm"
   ]
  },
  {
   "cell_type": "code",
   "execution_count": null,
   "metadata": {},
   "outputs": [],
   "source": [
    "y_teste"
   ]
  },
  {
   "cell_type": "code",
   "execution_count": null,
   "metadata": {},
   "outputs": [],
   "source": [
    "from sklearn.metrics import accuracy_score, confusion_matrix, classification_report"
   ]
  },
  {
   "cell_type": "code",
   "execution_count": null,
   "metadata": {},
   "outputs": [],
   "source": [
    "print(\"Acurácia: %.2f%%\" % (accuracy_score(y_teste, previsoes_lgbm) * 100.0))"
   ]
  },
  {
   "cell_type": "markdown",
   "metadata": {},
   "source": [
    "#### **Análise dados de treino**"
   ]
  },
  {
   "cell_type": "code",
   "execution_count": null,
   "metadata": {},
   "outputs": [],
   "source": [
    "previsoes_treino = lgbm.predict(x_treino)\n",
    "previsoes_treino"
   ]
  },
  {
   "cell_type": "code",
   "execution_count": null,
   "metadata": {},
   "outputs": [],
   "source": [
    "previsoes_treino = [np.argmax(line) for line in previsoes_treino] # retorna o índice correspondendo cada valor. Por exemplo: Região A é 0 a coluna, então todos os valores serão 0\n",
    "previsoes_treino"
   ]
  },
  {
   "cell_type": "code",
   "execution_count": null,
   "metadata": {},
   "outputs": [],
   "source": [
    "accuracy_score(y_treino, previsoes_treino)"
   ]
  },
  {
   "cell_type": "code",
   "execution_count": null,
   "metadata": {},
   "outputs": [],
   "source": [
    "pd.crosstab(le.inverse_transform(y_treino), le.inverse_transform(previsoes_treino), rownames=['Atual'], colnames=['Previsto'], margins=True)"
   ]
  },
  {
   "cell_type": "markdown",
   "metadata": {},
   "source": [
    "#### **Validação Cruzada**"
   ]
  },
  {
   "cell_type": "code",
   "execution_count": null,
   "metadata": {},
   "outputs": [],
   "source": [
    "from sklearn.model_selection import KFold\n",
    "from sklearn.model_selection import cross_val_score"
   ]
  },
  {
   "cell_type": "code",
   "execution_count": null,
   "metadata": {
    "id": "ETYEB99OGOb9"
   },
   "outputs": [],
   "source": [
    "# Separando os dados em folds\n",
    "kfold = KFold(n_splits = 30, shuffle=True, random_state = 5)"
   ]
  },
  {
   "cell_type": "code",
   "execution_count": null,
   "metadata": {
    "id": "7GHcsag3GOb9"
   },
   "outputs": [],
   "source": [
    "# Criando o modelo\n",
    "modelo = lgb.LGBMClassifier(metric = 'multi_logloss', objective = 'multiclass', boosting_type = 'gbdt', learning_rate = .03, num_class =19)\n",
    "resultado = cross_val_score(modelo, previsores, alvo_cond, cv = kfold)\n",
    "\n",
    "# Usamos a média e o desvio padrão\n",
    "print(\"Acurácia Média: %.2f%%\" % (resultado.mean() * 100.0))"
   ]
  },
  {
   "cell_type": "markdown",
   "metadata": {
    "id": "sPZLUYzCqTWL"
   },
   "source": [
    "## **CATBOOST**"
   ]
  },
  {
   "cell_type": "markdown",
   "metadata": {
    "id": "LMqQ_NMTUChV"
   },
   "source": [
    "https://catboost.ai/en/docs/"
   ]
  },
  {
   "cell_type": "code",
   "execution_count": null,
   "metadata": {},
   "outputs": [],
   "source": [
    "!pip install catboost"
   ]
  },
  {
   "cell_type": "code",
   "execution_count": null,
   "metadata": {},
   "outputs": [],
   "source": [
    "from catboost import CatBoostClassifier"
   ]
  },
  {
   "cell_type": "code",
   "execution_count": null,
   "metadata": {},
   "outputs": [],
   "source": [
    "dataset_final_amostra"
   ]
  },
  {
   "cell_type": "code",
   "execution_count": null,
   "metadata": {},
   "outputs": [],
   "source": [
    "previsores_cat = dataset_final_amostra.iloc[:, 4:8]\n",
    "previsores_cat"
   ]
  },
  {
   "cell_type": "code",
   "execution_count": null,
   "metadata": {},
   "outputs": [],
   "source": [
    "alvo_cat = dataset_final_amostra.iloc[:, 3]\n",
    "alvo_cat_cond = le.transform(alvo_cat)\n",
    "alvo_cat_cond"
   ]
  },
  {
   "cell_type": "code",
   "execution_count": null,
   "metadata": {},
   "outputs": [],
   "source": [
    "from sklearn.model_selection import train_test_split"
   ]
  },
  {
   "cell_type": "code",
   "execution_count": null,
   "metadata": {},
   "outputs": [],
   "source": [
    "# x: previsores e y: alvo\n",
    "x_treino_cat, x_teste_cat, y_treino_cat, y_teste_cat = train_test_split(previsores_cat, alvo_cat_cond, test_size = 0.3, \n",
    "                                                           stratify = alvo_cat_cond, random_state = 0)"
   ]
  },
  {
   "cell_type": "code",
   "execution_count": null,
   "metadata": {},
   "outputs": [],
   "source": [
    "catboost = CatBoostClassifier(task_type='CPU', iterations=200, learning_rate=0.03, random_state = 43,  loss_function='MultiClass',\n",
    "                              eval_metric=\"Accuracy\")"
   ]
  },
  {
   "cell_type": "code",
   "execution_count": null,
   "metadata": {},
   "outputs": [],
   "source": [
    "catboost.fit(x_treino_cat, y_treino_cat, plot=True, eval_set=(x_teste, y_teste))"
   ]
  },
  {
   "cell_type": "code",
   "execution_count": null,
   "metadata": {},
   "outputs": [],
   "source": [
    "previsoes_cat = catboost.predict(x_teste)\n",
    "previsoes_cat"
   ]
  },
  {
   "cell_type": "code",
   "execution_count": null,
   "metadata": {},
   "outputs": [],
   "source": [
    "y_teste"
   ]
  },
  {
   "cell_type": "code",
   "execution_count": null,
   "metadata": {
    "id": "r6FeKp07UCha"
   },
   "outputs": [],
   "source": [
    "from sklearn.metrics import accuracy_score, confusion_matrix, classification_report"
   ]
  },
  {
   "cell_type": "code",
   "execution_count": null,
   "metadata": {
    "id": "rknZXiSyUChb"
   },
   "outputs": [],
   "source": [
    "print(\"Acurácia: %.2f%%\" % (accuracy_score(y_teste, previsoes_cat) * 100.0))"
   ]
  },
  {
   "cell_type": "code",
   "execution_count": null,
   "metadata": {},
   "outputs": [],
   "source": [
    "pd.crosstab(le.inverse_transform(y_teste), le.inverse_transform(previsoes_cat), rownames=['Atual'], colnames=['Previsto'], margins=True)"
   ]
  },
  {
   "cell_type": "code",
   "execution_count": null,
   "metadata": {},
   "outputs": [],
   "source": [
    "print(classification_report(le.inverse_transform(y_teste), le.inverse_transform(previsoes_cat)))"
   ]
  },
  {
   "cell_type": "markdown",
   "metadata": {
    "id": "u3pNMaVs0NgR"
   },
   "source": [
    "#### **Análise dados de treino**"
   ]
  },
  {
   "cell_type": "code",
   "execution_count": null,
   "metadata": {
    "id": "pu0f-5frUChc"
   },
   "outputs": [],
   "source": [
    "previsoes_treino = catboost.predict(x_treino)\n",
    "previsoes_treino"
   ]
  },
  {
   "cell_type": "code",
   "execution_count": null,
   "metadata": {
    "id": "agSmZWOEUChc"
   },
   "outputs": [],
   "source": [
    "accuracy_score(y_treino, previsoes_treino)"
   ]
  },
  {
   "cell_type": "code",
   "execution_count": null,
   "metadata": {
    "id": "lwgfw-cVUChd"
   },
   "outputs": [],
   "source": [
    "# Criando o modelo\n",
    "modelo = CatBoostClassifier(task_type='CPU', iterations=200, learning_rate=0.4, random_state = 0, \n",
    "                              eval_metric=\"Accuracy\")\n",
    "resultado = cross_val_score(modelo, previsores, alvo_cond, cv = kfold)\n"
   ]
  },
  {
   "cell_type": "code",
   "execution_count": null,
   "metadata": {},
   "outputs": [],
   "source": [
    "# Usamos a média e o desvio padrão\n",
    "print(\"Acurácia Média: %.2f%%\" % (resultado.mean() * 100.0))"
   ]
  },
  {
   "cell_type": "markdown",
   "metadata": {},
   "source": [
    "## **Teste Definitivo** "
   ]
  },
  {
   "cell_type": "code",
   "execution_count": null,
   "metadata": {},
   "outputs": [],
   "source": [
    "dataset_final2_res"
   ]
  },
  {
   "cell_type": "markdown",
   "metadata": {},
   "source": [
    "Extrair X, Y e Z"
   ]
  },
  {
   "cell_type": "markdown",
   "metadata": {},
   "source": [
    "Para o modelo funcionar é necessário deixar os dados da latitude e longitude numa escala próxima a zero, ou seja, uma normalização e também representar em três dimensões com uso de seno e cosseno."
   ]
  },
  {
   "cell_type": "code",
   "execution_count": null,
   "metadata": {},
   "outputs": [],
   "source": [
    "import numpy as np\n",
    "dataset_final2_res['x'] = np.cos(dataset_final2_res['Lat']) * np.cos(dataset_final2_res['Long'])\n",
    "dataset_final2_res['y'] = np.cos(dataset_final2_res['Lat']) * np.sin(dataset_final2_res['Long'])\n",
    "dataset_final2_res['z'] = np.sin(dataset_final2_res['Lat'])\n",
    "dataset_final2_cluster = dataset_final2_res\n",
    "dataset_final2_cluster"
   ]
  },
  {
   "cell_type": "code",
   "execution_count": null,
   "metadata": {},
   "outputs": [],
   "source": [
    "dataset_cluster_regiao = dataset_final_amostra.loc[:, [\"Regiao\", \"cluster\"]].drop_duplicates(subset = ['Regiao'], keep='first')"
   ]
  },
  {
   "cell_type": "code",
   "execution_count": null,
   "metadata": {},
   "outputs": [],
   "source": [
    "dataset_cluster_regiao"
   ]
  },
  {
   "cell_type": "code",
   "execution_count": null,
   "metadata": {},
   "outputs": [],
   "source": [
    "# fazer o inner join para conseguir o cluster\n",
    "dataset_final2_cluster = pd.merge(dataset_final2_res, dataset_cluster_regiao[['Regiao', 'cluster']], on = 'Regiao', how = 'left')"
   ]
  },
  {
   "cell_type": "code",
   "execution_count": null,
   "metadata": {},
   "outputs": [],
   "source": [
    "dataset_final2_cluster "
   ]
  },
  {
   "cell_type": "code",
   "execution_count": null,
   "metadata": {},
   "outputs": [],
   "source": [
    "# dados da população restante\n",
    "dataset_final2_cluster[[\"x\", \"y\", \"z\"]].describe()"
   ]
  },
  {
   "cell_type": "code",
   "execution_count": null,
   "metadata": {},
   "outputs": [],
   "source": [
    "# dados da amostra extraída\n",
    "dataset_final_amostra[[\"x\", \"y\", \"z\"]].describe()"
   ]
  },
  {
   "cell_type": "code",
   "execution_count": null,
   "metadata": {},
   "outputs": [],
   "source": [
    "dataset_final2_cluster.dtypes"
   ]
  },
  {
   "cell_type": "code",
   "execution_count": null,
   "metadata": {},
   "outputs": [],
   "source": [
    "previsores_def = dataset_final2_cluster.iloc[:, 4:8].values\n",
    "previsores_def"
   ]
  },
  {
   "cell_type": "code",
   "execution_count": null,
   "metadata": {},
   "outputs": [],
   "source": [
    "previsores_def.shape"
   ]
  },
  {
   "cell_type": "code",
   "execution_count": null,
   "metadata": {},
   "outputs": [],
   "source": [
    "alvo_def = dataset_final2_cluster.iloc[:, 3].values\n",
    "alvo_def"
   ]
  },
  {
   "cell_type": "code",
   "execution_count": null,
   "metadata": {},
   "outputs": [],
   "source": [
    "alvo_def.shape"
   ]
  },
  {
   "cell_type": "code",
   "execution_count": null,
   "metadata": {},
   "outputs": [],
   "source": [
    "le.fit(alvo_def)\n",
    "alvo_cond_def = le.transform(alvo_def)\n",
    "alvo_cond_def"
   ]
  },
  {
   "cell_type": "markdown",
   "metadata": {},
   "source": [
    " **Previsores e Alvos da População em Arquivos Disponíveis** "
   ]
  },
  {
   "cell_type": "code",
   "execution_count": null,
   "metadata": {},
   "outputs": [],
   "source": [
    "\n",
    "\"\"\"previsores_def = pd.read_csv(diretorio + '/Variaveis/previsores_populacao.csv',header=None)\n",
    "previsores_def = previsores_def.values\n",
    "previsores_def\"\"\""
   ]
  },
  {
   "cell_type": "code",
   "execution_count": null,
   "metadata": {},
   "outputs": [],
   "source": [
    "\"\"\"alvo_cond_def = pd.read_csv(diretorio + '/Variaveis/alvo_amostra.csv',header=None)\n",
    "alvo_cond_def = alvo_cond_def.iloc[:, 0].values\n",
    "alvo_cond_def\"\"\""
   ]
  },
  {
   "cell_type": "code",
   "execution_count": null,
   "metadata": {},
   "outputs": [],
   "source": [
    "previsoes_random_def = random.predict(previsores_def)\n",
    "previsoes_random_def"
   ]
  },
  {
   "cell_type": "code",
   "execution_count": null,
   "metadata": {},
   "outputs": [],
   "source": [
    "alvo_cond_def"
   ]
  },
  {
   "cell_type": "code",
   "execution_count": null,
   "metadata": {},
   "outputs": [],
   "source": [
    "from sklearn.metrics import accuracy_score, confusion_matrix, classification_report"
   ]
  },
  {
   "cell_type": "code",
   "execution_count": null,
   "metadata": {},
   "outputs": [],
   "source": [
    "print(\" Acurácia: %.2f%%\" % (accuracy_score(alvo_cond_def, previsoes_random_def) * 100.0))"
   ]
  },
  {
   "cell_type": "code",
   "execution_count": null,
   "metadata": {},
   "outputs": [],
   "source": [
    "pd.crosstab(le.inverse_transform(alvo_cond_def), le.inverse_transform(previsoes_random_def), rownames=['Atual'], colnames=['Previsto'], margins=True)"
   ]
  },
  {
   "cell_type": "code",
   "execution_count": null,
   "metadata": {},
   "outputs": [],
   "source": [
    "print(classification_report(le.inverse_transform(alvo_cond_def), le.inverse_transform(previsoes_random_def)))"
   ]
  },
  {
   "cell_type": "markdown",
   "metadata": {},
   "source": [
    "## **Conclusão**\n"
   ]
  },
  {
   "cell_type": "markdown",
   "metadata": {},
   "source": [
    "Baseado no arquivo previsores_amostra.csv e alvo_amostra.csv, o melhor algoritmo para ser utlizado no modelo proposto é o Random Forest:  \n",
    "  \n",
    "**SVM = 90.25% (teste) e 90.32% (validação cruzada)**  \n",
    "**Árvore de Decisão = 99.78% (teste) e 99.83% (validação cruzada)**  \n",
    "**Random Forest = 99.85% (teste) e 99.88% (validação cruzada)**  \n",
    "**XGboost = 99.77% (teste) e 99.85% (validação cruzada)**  \n",
    "**LightGBM = 99.72% (teste) e 99.75% (validação cruzada)**  \n",
    "**CatBoost =  99.73% (teste) e 99.66% (validação cruzada)**"
   ]
  },
  {
   "cell_type": "markdown",
   "metadata": {},
   "source": [
    "Escolhido o Random Forest, o algoritmo previu 97.10% corretamente no arquivo disponibilizado previsores_populacao.csv e alvo_populacao.csv"
   ]
  }
 ],
 "metadata": {
  "kernelspec": {
   "display_name": "Python 3.9.12 ('base')",
   "language": "python",
   "name": "python3"
  },
  "language_info": {
   "codemirror_mode": {
    "name": "ipython",
    "version": 3
   },
   "file_extension": ".py",
   "mimetype": "text/x-python",
   "name": "python",
   "nbconvert_exporter": "python",
   "pygments_lexer": "ipython3",
   "version": "3.9.12"
  },
  "orig_nbformat": 4,
  "vscode": {
   "interpreter": {
    "hash": "8db1f0892d2c7928835248f38e884dba150a0fac0090e6f6766ff1e2d7d5f190"
   }
  }
 },
 "nbformat": 4,
 "nbformat_minor": 2
}
